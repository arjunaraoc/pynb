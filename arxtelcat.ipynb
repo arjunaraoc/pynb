{
 "cells": [
  {
   "cell_type": "code",
   "execution_count": 1,
   "metadata": {},
   "outputs": [
    {
     "name": "stdout",
     "output_type": "stream",
     "text": [
      "q=(collection%3Adigitallibraryindia+AND+(language%3Atel++OR+language%3ATelugu))&fields=identifier\n",
      "W3siaWRlbnRpZmllciI6ImluLmVybmV0LmRsaS4yMDE1LjMzMzM4MyJ9XQ==\n",
      "q=(collection%3Adigitallibraryindia+AND+(language%3Atel++OR+language%3ATelugu))&fields=identifier&cursor=W3siaWRlbnRpZmllciI6ImluLmVybmV0LmRsaS4yMDE1LjMzMzM4MyJ9XQ==\n",
      "W3siaWRlbnRpZmllciI6ImluLmVybmV0LmRsaS4yMDE1LjM4NjA2NCJ9XQ==\n",
      "q=(collection%3Adigitallibraryindia+AND+(language%3Atel++OR+language%3ATelugu))&fields=identifier&cursor=W3siaWRlbnRpZmllciI6ImluLmVybmV0LmRsaS4yMDE1LjM4NjA2NCJ9XQ==\n",
      "W3siaWRlbnRpZmllciI6ImluLmVybmV0LmRsaS4yMDE1LjM5NDY3NiJ9XQ==\n",
      "q=(collection%3Adigitallibraryindia+AND+(language%3Atel++OR+language%3ATelugu))&fields=identifier&cursor=W3siaWRlbnRpZmllciI6ImluLmVybmV0LmRsaS4yMDE1LjM5NDY3NiJ9XQ==\n",
      "None\n"
     ]
    }
   ],
   "source": [
    "# Get identifiers of all telugu books on archive.org\n",
    "import requests\n",
    "import urllib.parse\n",
    "#using scraping API as page API fails for more than 10000 records.\n",
    "from internetarchive import get_item\n",
    "import re\n",
    "def getCollection(resfile):\n",
    "    try:\n",
    "        fo=open(resfile,\"w\")\n",
    "        error_log = open('arxerrlog.txt', 'w+')\n",
    "        url = \"https://archive.org/services/search/v1/scrape?\"\n",
    "        basic_params={ 'q':'(collection%3Adigitallibraryindia+AND+(language%3Atel++OR+language%3ATelugu))', 'fields':'identifier'}\n",
    "        params=basic_params.copy()\n",
    "        while True:\n",
    "            try:\n",
    "\n",
    "                params_str= \"&\".join(\"%s=%s\" % (k, v) for k, v in params.items())\n",
    "                print (params_str)\n",
    "                resp = requests.get(url+params_str, headers={})\n",
    "            except requests.exceptions.RequestException as e:  # This is the correct syntax\n",
    "                error_log.write('Could not get search result' + url + params+' because of error: %s\\n' % e)\n",
    "                print (\"There was an error; writing to log.\")\n",
    "                sys.exit(1)\n",
    "            else:\n",
    "                data= resp.json()\n",
    "                #write results\n",
    "                dlidict=data[\"items\"]\n",
    "                dlivalues = [i['identifier'] for i in dlidict]\n",
    "                fo.writelines([\"%s\\n\" % item for item in dlivalues])\n",
    "                cursor = data.get('cursor', None)\n",
    "                print(cursor)\n",
    "                if cursor is None:\n",
    "                    break\n",
    "                else:\n",
    "                    params = basic_params.copy()\n",
    "                    params['cursor'] = cursor\n",
    "        fo.close()\n",
    "    except IOError:\n",
    "        print (\"Error: can\\'t find file or read data\")\n",
    "getCollection(\"arxtelcat.txt\")"
   ]
  },
  {
   "cell_type": "code",
   "execution_count": null,
   "metadata": {},
   "outputs": [],
   "source": []
  },
  {
   "cell_type": "code",
   "execution_count": null,
   "metadata": {},
   "outputs": [],
   "source": []
  }
 ],
 "metadata": {
  "kernelspec": {
   "display_name": "Python 3",
   "language": "python",
   "name": "python3"
  },
  "language_info": {
   "codemirror_mode": {
    "name": "ipython",
    "version": 3
   },
   "file_extension": ".py",
   "mimetype": "text/x-python",
   "name": "python",
   "nbconvert_exporter": "python",
   "pygments_lexer": "ipython3",
   "version": "3.6.7"
  }
 },
 "nbformat": 4,
 "nbformat_minor": 2
}
